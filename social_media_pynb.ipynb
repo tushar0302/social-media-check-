{
  "nbformat": 4,
  "nbformat_minor": 0,
  "metadata": {
    "colab": {
      "provenance": []
    },
    "kernelspec": {
      "name": "python3",
      "display_name": "Python 3"
    },
    "language_info": {
      "name": "python"
    }
  },
  "cells": [
    {
      "cell_type": "code",
      "execution_count": 2,
      "metadata": {
        "id": "YVbRDFJuCPgi"
      },
      "outputs": [],
      "source": [
        "# 📦 Import Common Libraries\n",
        "import pandas as pd\n",
        "from sklearn.model_selection import train_test_split\n",
        "from sklearn.preprocessing import OneHotEncoder\n",
        "from sklearn.compose import ColumnTransformer\n",
        "from sklearn.pipeline import Pipeline\n",
        "\n",
        "# 📂 Load the Dataset\n",
        "data = pd.read_csv('social_media_test.csv')\n",
        "\n",
        "# 🎯 Separate Features and Labels\n",
        "X = data.drop('label', axis=1)\n",
        "y = data['label']\n",
        "\n",
        "# 🔠 Define Categorical Columns for One-Hot Encoding\n",
        "categorical_cols = ['profile_pic', 'sim_name_username', 'len_desc', 'extern_url', 'private']\n",
        "\n",
        "# 🧼 Preprocessing: OneHotEncoder for Categorical Columns\n",
        "preprocessor = ColumnTransformer(\n",
        "    transformers=[('cat', OneHotEncoder(handle_unknown='ignore'), categorical_cols)],\n",
        "    remainder='passthrough'\n",
        ")\n",
        "\n",
        "# 🧪 Split Data into Train/Test\n",
        "X_train, X_test, y_train, y_test = train_test_split(X, y, test_size=0.2, random_state=42)\n",
        "\n"
      ]
    },
    {
      "cell_type": "code",
      "source": [
        "from sklearn.ensemble import GradientBoostingClassifier\n",
        "from sklearn.metrics import precision_score, recall_score, f1_score\n",
        "\n",
        "# 🔁 Define Pipeline\n",
        "gb_pipeline = Pipeline([\n",
        "    ('preprocessor', preprocessor),\n",
        "    ('classifier', GradientBoostingClassifier(n_estimators=100, learning_rate=0.1, max_depth=3, random_state=42))\n",
        "])\n",
        "\n",
        "# 🧠 Train & Evaluate\n",
        "gb_pipeline.fit(X_train, y_train)\n",
        "gb_preds = gb_pipeline.predict(X_test)\n",
        "\n",
        "# 📊 Evaluate Metrics\n",
        "precision = precision_score(y_test, gb_preds)\n",
        "recall = recall_score(y_test, gb_preds)\n",
        "f1 = f1_score(y_test, gb_preds)\n",
        "print(f\"Gradient Boosting - Precision: {precision}, Recall: {recall}, F1 Score: {f1}\")\n"
      ],
      "metadata": {
        "colab": {
          "base_uri": "https://localhost:8080/"
        },
        "id": "4I2JLJ8qDugR",
        "outputId": "770e62a8-9d9b-46c1-e34f-106e51aa3824"
      },
      "execution_count": 3,
      "outputs": [
        {
          "output_type": "stream",
          "name": "stdout",
          "text": [
            "Gradient Boosting - Precision: 1.0, Recall: 1.0, F1 Score: 1.0\n"
          ]
        }
      ]
    },
    {
      "cell_type": "code",
      "source": [
        "from sklearn.ensemble import RandomForestClassifier\n",
        "\n",
        "rf_pipeline = Pipeline([\n",
        "    ('preprocessor', preprocessor),\n",
        "    ('classifier', RandomForestClassifier(n_estimators=100, max_depth=2, random_state=42))\n",
        "])\n",
        "\n",
        "rf_pipeline.fit(X_train, y_train)\n",
        "rf_preds = rf_pipeline.predict(X_test)\n",
        "\n",
        "rf_accuracy = (rf_preds == y_test).mean()\n",
        "print(f\"Random Forest - Accuracy: {rf_accuracy}\")\n"
      ],
      "metadata": {
        "colab": {
          "base_uri": "https://localhost:8080/"
        },
        "id": "4DiU7D2oDw3S",
        "outputId": "09f6aa58-cfe1-493c-9676-d663395d052c"
      },
      "execution_count": 4,
      "outputs": [
        {
          "output_type": "stream",
          "name": "stdout",
          "text": [
            "Random Forest - Accuracy: 1.0\n"
          ]
        }
      ]
    },
    {
      "cell_type": "code",
      "source": [
        "from sklearn.naive_bayes import MultinomialNB\n",
        "\n",
        "nb_pipeline = Pipeline([\n",
        "    ('preprocessor', preprocessor),\n",
        "    ('classifier', MultinomialNB())\n",
        "])\n",
        "\n",
        "nb_pipeline.fit(X_train, y_train)\n",
        "nb_preds = nb_pipeline.predict(X_test)\n",
        "\n",
        "nb_accuracy = (nb_preds == y_test).mean()\n",
        "print(f\"Naive Bayes - Accuracy: {nb_accuracy}\")\n"
      ],
      "metadata": {
        "colab": {
          "base_uri": "https://localhost:8080/"
        },
        "id": "ft9Rq3eED1St",
        "outputId": "90a6e649-c1d5-49d4-c678-6d5ba3731ad1"
      },
      "execution_count": 5,
      "outputs": [
        {
          "output_type": "stream",
          "name": "stdout",
          "text": [
            "Naive Bayes - Accuracy: 0.5833333333333334\n"
          ]
        }
      ]
    },
    {
      "cell_type": "code",
      "source": [
        "from sklearn.ensemble import AdaBoostClassifier\n",
        "from sklearn.tree import DecisionTreeClassifier\n",
        "\n",
        "ada_pipeline = Pipeline([\n",
        "    ('preprocessor', preprocessor),\n",
        "    ('classifier', AdaBoostClassifier(\n",
        "        estimator=DecisionTreeClassifier(max_depth=1),\n",
        "        n_estimators=50,\n",
        "        random_state=42\n",
        "    ))\n",
        "])\n",
        "\n",
        "ada_pipeline.fit(X_train, y_train)\n",
        "ada_preds = ada_pipeline.predict(X_test)\n",
        "\n",
        "ada_accuracy = (ada_preds == y_test).mean()\n",
        "print(f\"AdaBoost - Accuracy: {ada_accuracy}\")\n"
      ],
      "metadata": {
        "colab": {
          "base_uri": "https://localhost:8080/"
        },
        "id": "vgi3y-vID37d",
        "outputId": "d6835d15-d66d-4432-daf6-77a3f6fd33b6"
      },
      "execution_count": 6,
      "outputs": [
        {
          "output_type": "stream",
          "name": "stdout",
          "text": [
            "AdaBoost - Accuracy: 1.0\n"
          ]
        }
      ]
    },
    {
      "cell_type": "code",
      "source": [
        "from sklearn.svm import SVC\n",
        "\n",
        "svm_pipeline = Pipeline([\n",
        "    ('preprocessor', preprocessor),\n",
        "    ('classifier', SVC(probability=True, kernel='linear'))\n",
        "])\n",
        "\n",
        "svm_pipeline.fit(X_train, y_train)\n",
        "svm_preds = svm_pipeline.predict(X_test)\n",
        "\n",
        "svm_accuracy = (svm_preds == y_test).mean()\n",
        "print(f\"SVM - Accuracy: {svm_accuracy}\")\n"
      ],
      "metadata": {
        "colab": {
          "base_uri": "https://localhost:8080/"
        },
        "id": "QpcJ1cSaD6GR",
        "outputId": "20b47cd4-8817-4d14-ec12-ad0ec42c2682"
      },
      "execution_count": 7,
      "outputs": [
        {
          "output_type": "stream",
          "name": "stdout",
          "text": [
            "SVM - Accuracy: 1.0\n"
          ]
        }
      ]
    },
    {
      "cell_type": "code",
      "source": [
        "from xgboost import XGBClassifier\n",
        "\n",
        "xgb_pipeline = Pipeline([\n",
        "    ('preprocessor', preprocessor),\n",
        "    ('classifier', XGBClassifier(learning_rate=0.1, n_estimators=100, max_depth=3, random_state=42))\n",
        "])\n",
        "\n",
        "xgb_pipeline.fit(X_train, y_train)\n",
        "xgb_preds = xgb_pipeline.predict(X_test)\n",
        "\n",
        "xgb_accuracy = (xgb_preds == y_test).mean()\n",
        "print(f\"XGBoost - Accuracy: {xgb_accuracy}\")\n"
      ],
      "metadata": {
        "colab": {
          "base_uri": "https://localhost:8080/"
        },
        "id": "sEYRhx4cD87_",
        "outputId": "9bd6f68b-dc47-469a-d639-8c4e2d67d17a"
      },
      "execution_count": 8,
      "outputs": [
        {
          "output_type": "stream",
          "name": "stdout",
          "text": [
            "XGBoost - Accuracy: 0.9583333333333334\n"
          ]
        }
      ]
    },
    {
      "cell_type": "code",
      "source": [
        "results = {\n",
        "    \"Model\": [\"Gradient Boosting\", \"Random Forest\", \"Naive Bayes\", \"AdaBoost\", \"SVM\", \"XGBoost\"],\n",
        "    \"Accuracy\": [None, rf_accuracy, nb_accuracy, ada_accuracy, svm_accuracy, xgb_accuracy],\n",
        "    \"Precision\": [precision, None, None, None, None, None],\n",
        "    \"Recall\": [recall, None, None, None, None, None],\n",
        "    \"F1 Score\": [f1, None, None, None, None, None]\n",
        "}\n",
        "\n",
        "summary = pd.DataFrame(results)\n",
        "print(summary)\n"
      ],
      "metadata": {
        "id": "MWZsT1ZrEADR",
        "outputId": "45ec910d-5e36-4e98-8ee8-ea9f616fd3d1",
        "colab": {
          "base_uri": "https://localhost:8080/"
        }
      },
      "execution_count": 9,
      "outputs": [
        {
          "output_type": "stream",
          "name": "stdout",
          "text": [
            "               Model  Accuracy  Precision  Recall  F1 Score\n",
            "0  Gradient Boosting       NaN        1.0     1.0       1.0\n",
            "1      Random Forest  1.000000        NaN     NaN       NaN\n",
            "2        Naive Bayes  0.583333        NaN     NaN       NaN\n",
            "3           AdaBoost  1.000000        NaN     NaN       NaN\n",
            "4                SVM  1.000000        NaN     NaN       NaN\n",
            "5            XGBoost  0.958333        NaN     NaN       NaN\n"
          ]
        }
      ]
    }
  ]
}